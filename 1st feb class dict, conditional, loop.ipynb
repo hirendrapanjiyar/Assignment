{
 "cells": [
  {
   "cell_type": "code",
   "execution_count": 1,
   "id": "69f035bf-a796-44ff-9c08-b54eda3890da",
   "metadata": {},
   "outputs": [],
   "source": [
    "d = {}"
   ]
  },
  {
   "cell_type": "code",
   "execution_count": 2,
   "id": "5e4a60de-9a29-48b4-b0df-5cddcb590441",
   "metadata": {},
   "outputs": [
    {
     "data": {
      "text/plain": [
       "dict"
      ]
     },
     "execution_count": 2,
     "metadata": {},
     "output_type": "execute_result"
    }
   ],
   "source": [
    "type(d)"
   ]
  },
  {
   "cell_type": "code",
   "execution_count": 3,
   "id": "d3c49c8e-1f35-45e6-9541-dafb146b708b",
   "metadata": {},
   "outputs": [],
   "source": [
    "d1 = {'key' : \"sudh\"}"
   ]
  },
  {
   "cell_type": "code",
   "execution_count": 4,
   "id": "fe037392-dfcc-4a5b-9cbf-ab365226d29e",
   "metadata": {},
   "outputs": [
    {
     "data": {
      "text/plain": [
       "{'key': 'sudh'}"
      ]
     },
     "execution_count": 4,
     "metadata": {},
     "output_type": "execute_result"
    }
   ],
   "source": [
    "d1"
   ]
  },
  {
   "cell_type": "code",
   "execution_count": 5,
   "id": "9fe910c9-393d-4cbd-85b9-cab1581f5efb",
   "metadata": {},
   "outputs": [],
   "source": [
    "d2 = {'name' : \"sudhanshu\" , \"email\" : \"ss@gmail.com\" , \"number\" : 3324658}"
   ]
  },
  {
   "cell_type": "code",
   "execution_count": 6,
   "id": "055d5cd7-d448-4c84-a0a8-c2bc0edef135",
   "metadata": {},
   "outputs": [
    {
     "data": {
      "text/plain": [
       "{'name': 'sudhanshu', 'email': 'ss@gmail.com', 'number': 3324658}"
      ]
     },
     "execution_count": 6,
     "metadata": {},
     "output_type": "execute_result"
    }
   ],
   "source": [
    "d2"
   ]
  },
  {
   "cell_type": "code",
   "execution_count": 7,
   "id": "342a1971-52df-4f04-8e0e-25c5065122bc",
   "metadata": {},
   "outputs": [],
   "source": [
    "d3 = {234 : \"sudh\" , '_wer' : \"kumar\" , True : 21354}"
   ]
  },
  {
   "cell_type": "code",
   "execution_count": 8,
   "id": "c303098d-077d-4d1b-9a0c-de360418003e",
   "metadata": {},
   "outputs": [
    {
     "data": {
      "text/plain": [
       "{234: 'sudh', '_wer': 'kumar', True: 21354}"
      ]
     },
     "execution_count": 8,
     "metadata": {},
     "output_type": "execute_result"
    }
   ],
   "source": [
    "d3"
   ]
  },
  {
   "cell_type": "code",
   "execution_count": 9,
   "id": "7c623f56-af4a-48f7-a337-a71d27364a77",
   "metadata": {},
   "outputs": [
    {
     "data": {
      "text/plain": [
       "'sudh'"
      ]
     },
     "execution_count": 9,
     "metadata": {},
     "output_type": "execute_result"
    }
   ],
   "source": [
    "d3[234]"
   ]
  },
  {
   "cell_type": "code",
   "execution_count": 10,
   "id": "7efe23b4-74f2-49a6-8191-aabb13f50155",
   "metadata": {},
   "outputs": [
    {
     "data": {
      "text/plain": [
       "21354"
      ]
     },
     "execution_count": 10,
     "metadata": {},
     "output_type": "execute_result"
    }
   ],
   "source": [
    "d3[1]"
   ]
  },
  {
   "cell_type": "code",
   "execution_count": 11,
   "id": "ba8b1ac2-eeee-4542-ba75-ed53e626712e",
   "metadata": {},
   "outputs": [],
   "source": [
    "d4 = {'name' : \"sudh\", 'mail_id' : \"ss@gmail.com\", 'name' : \"sudhanshu\"}"
   ]
  },
  {
   "cell_type": "code",
   "execution_count": 12,
   "id": "d969f2f7-06fd-430c-a710-c4e1c4f5940c",
   "metadata": {},
   "outputs": [
    {
     "data": {
      "text/plain": [
       "{'name': 'sudhanshu', 'mail_id': 'ss@gmail.com'}"
      ]
     },
     "execution_count": 12,
     "metadata": {},
     "output_type": "execute_result"
    }
   ],
   "source": [
    "d4"
   ]
  },
  {
   "cell_type": "code",
   "execution_count": 13,
   "id": "bd5a85e0-d61b-4c8c-a10f-531646cf503f",
   "metadata": {},
   "outputs": [
    {
     "data": {
      "text/plain": [
       "'sudhanshu'"
      ]
     },
     "execution_count": 13,
     "metadata": {},
     "output_type": "execute_result"
    }
   ],
   "source": [
    "d4['name']"
   ]
  },
  {
   "cell_type": "code",
   "execution_count": 14,
   "id": "daa726c4-84c2-4e24-a762-15ba402e32c9",
   "metadata": {},
   "outputs": [],
   "source": [
    "d5 = {\"company\" : \"pwskills\", \"course\" : [\"web dev\", \"data science\", \"java\"]}"
   ]
  },
  {
   "cell_type": "code",
   "execution_count": 15,
   "id": "519d068d-52ac-4006-96bc-4e8a02c0af0e",
   "metadata": {},
   "outputs": [
    {
     "data": {
      "text/plain": [
       "{'company': 'pwskills', 'course': ['web dev', 'data science', 'java']}"
      ]
     },
     "execution_count": 15,
     "metadata": {},
     "output_type": "execute_result"
    }
   ],
   "source": [
    "d5"
   ]
  },
  {
   "cell_type": "code",
   "execution_count": 16,
   "id": "26ef1dd0-b0c8-4684-a0f8-ed0fe8010e57",
   "metadata": {},
   "outputs": [
    {
     "data": {
      "text/plain": [
       "'java'"
      ]
     },
     "execution_count": 16,
     "metadata": {},
     "output_type": "execute_result"
    }
   ],
   "source": [
    "d5 ['course'][2]"
   ]
  },
  {
   "cell_type": "code",
   "execution_count": 17,
   "id": "7e616353-6c37-4be8-a98d-997aa38fd4e1",
   "metadata": {},
   "outputs": [],
   "source": [
    "d6 = {\"number\" : [2,34,3,34,34], \"assignment\" : (1,2,3,4,5,6), \"launch date\" : {28,12,14}, \"class time\" : {'web_dev' : 8, \"data science\":9, 'jave':  10}}"
   ]
  },
  {
   "cell_type": "code",
   "execution_count": 18,
   "id": "c391d7f3-e154-4e84-a44a-38020193a7f5",
   "metadata": {},
   "outputs": [
    {
     "data": {
      "text/plain": [
       "{'number': [2, 34, 3, 34, 34],\n",
       " 'assignment': (1, 2, 3, 4, 5, 6),\n",
       " 'launch date': {12, 14, 28},\n",
       " 'class time': {'web_dev': 8, 'data science': 9, 'jave': 10}}"
      ]
     },
     "execution_count": 18,
     "metadata": {},
     "output_type": "execute_result"
    }
   ],
   "source": [
    "d6"
   ]
  },
  {
   "cell_type": "code",
   "execution_count": 19,
   "id": "3fbb18c8-c5b8-4980-925a-894a8bd3e4ce",
   "metadata": {},
   "outputs": [
    {
     "data": {
      "text/plain": [
       "10"
      ]
     },
     "execution_count": 19,
     "metadata": {},
     "output_type": "execute_result"
    }
   ],
   "source": [
    "d6['class time']['jave']"
   ]
  },
  {
   "cell_type": "code",
   "execution_count": 20,
   "id": "ba914bd1-053b-4900-acb0-13a5adf94200",
   "metadata": {},
   "outputs": [],
   "source": [
    "d6['mentor'] = [\"sudhanshu\", \"krish\", \"anurag\", \"hayder\"]"
   ]
  },
  {
   "cell_type": "code",
   "execution_count": 21,
   "id": "9459f2cc-1381-41dc-8d1b-1d7e6b08a7c1",
   "metadata": {},
   "outputs": [
    {
     "data": {
      "text/plain": [
       "{'number': [2, 34, 3, 34, 34],\n",
       " 'assignment': (1, 2, 3, 4, 5, 6),\n",
       " 'launch date': {12, 14, 28},\n",
       " 'class time': {'web_dev': 8, 'data science': 9, 'jave': 10},\n",
       " 'mentor': ['sudhanshu', 'krish', 'anurag', 'hayder']}"
      ]
     },
     "execution_count": 21,
     "metadata": {},
     "output_type": "execute_result"
    }
   ],
   "source": [
    "d6"
   ]
  },
  {
   "cell_type": "code",
   "execution_count": 22,
   "id": "ac454df7-ad4c-4f6c-a6eb-a7a212f14ac6",
   "metadata": {},
   "outputs": [],
   "source": [
    "del d6['number']"
   ]
  },
  {
   "cell_type": "code",
   "execution_count": 23,
   "id": "147e120c-a4b9-43ce-acbd-1cc5d254cf46",
   "metadata": {},
   "outputs": [
    {
     "data": {
      "text/plain": [
       "{'assignment': (1, 2, 3, 4, 5, 6),\n",
       " 'launch date': {12, 14, 28},\n",
       " 'class time': {'web_dev': 8, 'data science': 9, 'jave': 10},\n",
       " 'mentor': ['sudhanshu', 'krish', 'anurag', 'hayder']}"
      ]
     },
     "execution_count": 23,
     "metadata": {},
     "output_type": "execute_result"
    }
   ],
   "source": [
    "d6"
   ]
  },
  {
   "cell_type": "code",
   "execution_count": 24,
   "id": "3f168450-4e31-416a-9b8f-843f0652c080",
   "metadata": {},
   "outputs": [
    {
     "data": {
      "text/plain": [
       "['assignment', 'launch date', 'class time', 'mentor']"
      ]
     },
     "execution_count": 24,
     "metadata": {},
     "output_type": "execute_result"
    }
   ],
   "source": [
    "list(d6.keys())"
   ]
  },
  {
   "cell_type": "code",
   "execution_count": 25,
   "id": "4511c071-826b-4f8a-9834-845be840dce3",
   "metadata": {},
   "outputs": [
    {
     "data": {
      "text/plain": [
       "dict_values([(1, 2, 3, 4, 5, 6), {28, 12, 14}, {'web_dev': 8, 'data science': 9, 'jave': 10}, ['sudhanshu', 'krish', 'anurag', 'hayder']])"
      ]
     },
     "execution_count": 25,
     "metadata": {},
     "output_type": "execute_result"
    }
   ],
   "source": [
    "d6.values()"
   ]
  },
  {
   "cell_type": "code",
   "execution_count": 26,
   "id": "cc7819ae-5439-4017-8c44-9457f97689fa",
   "metadata": {},
   "outputs": [
    {
     "data": {
      "text/plain": [
       "[(1, 2, 3, 4, 5, 6),\n",
       " {12, 14, 28},\n",
       " {'web_dev': 8, 'data science': 9, 'jave': 10},\n",
       " ['sudhanshu', 'krish', 'anurag', 'hayder']]"
      ]
     },
     "execution_count": 26,
     "metadata": {},
     "output_type": "execute_result"
    }
   ],
   "source": [
    "list(d6.values())"
   ]
  },
  {
   "cell_type": "code",
   "execution_count": 27,
   "id": "d099470a-9e08-4b51-83a7-c197bd79d901",
   "metadata": {},
   "outputs": [
    {
     "data": {
      "text/plain": [
       "[('assignment', (1, 2, 3, 4, 5, 6)),\n",
       " ('launch date', {12, 14, 28}),\n",
       " ('class time', {'web_dev': 8, 'data science': 9, 'jave': 10}),\n",
       " ('mentor', ['sudhanshu', 'krish', 'anurag', 'hayder'])]"
      ]
     },
     "execution_count": 27,
     "metadata": {},
     "output_type": "execute_result"
    }
   ],
   "source": [
    "list(d6.items())"
   ]
  },
  {
   "cell_type": "code",
   "execution_count": 28,
   "id": "85d7378f-d8c5-4079-8c8c-9600d0a1b5aa",
   "metadata": {},
   "outputs": [
    {
     "data": {
      "text/plain": [
       "(1, 2, 3, 4, 5, 6)"
      ]
     },
     "execution_count": 28,
     "metadata": {},
     "output_type": "execute_result"
    }
   ],
   "source": [
    "d6.pop(\"assignment\")"
   ]
  },
  {
   "cell_type": "code",
   "execution_count": 29,
   "id": "5a827e9e-8a5b-4700-84fb-8bae992b0b49",
   "metadata": {},
   "outputs": [
    {
     "data": {
      "text/plain": [
       "{'launch date': {12, 14, 28},\n",
       " 'class time': {'web_dev': 8, 'data science': 9, 'jave': 10},\n",
       " 'mentor': ['sudhanshu', 'krish', 'anurag', 'hayder']}"
      ]
     },
     "execution_count": 29,
     "metadata": {},
     "output_type": "execute_result"
    }
   ],
   "source": [
    "d6"
   ]
  },
  {
   "cell_type": "markdown",
   "id": "124eb889-505d-4380-9ff8-770989372450",
   "metadata": {},
   "source": [
    "marks =\n",
    "if marks >= 80:\n",
    "    print(\"you will be a part of A0 batch\")\n",
    "elif marks >= 60 and marks < 80:\n",
    "    print(\"you will be a part of A1 batch\")\n",
    "elif marks >= 40 and marks < 60:\n",
    "    print(\"you will be a part of A2 batch\")\n",
    "else :\n",
    "    print(\"you will be a part of A3 batch\")\n",
    "    "
   ]
  },
  {
   "cell_type": "code",
   "execution_count": 3,
   "id": "e032e9d6-18c8-4df4-b181-51b0c4c5851e",
   "metadata": {},
   "outputs": [
    {
     "name": "stdin",
     "output_type": "stream",
     "text": [
      "enter your marks -33\n"
     ]
    },
    {
     "name": "stdout",
     "output_type": "stream",
     "text": [
      "you will be a part of A3 batch\n"
     ]
    }
   ],
   "source": [
    "marks = int(input(\"enter your marks\"))\n",
    "if marks >= 80: \n",
    "    print(\"you will be a part of A0 batch\") \n",
    "elif marks >= 60 and marks < 80: \n",
    "    print(\"you will be a part of A1 batch\") \n",
    "elif marks >= 40 and marks < 60: \n",
    "    print(\"you will be a part of A2 batch\") \n",
    "else : \n",
    "    print(\"you will be a part of A3 batch\")"
   ]
  },
  {
   "cell_type": "code",
   "execution_count": 9,
   "id": "2467fa84-1731-4caa-b709-fcc61910a96c",
   "metadata": {},
   "outputs": [
    {
     "name": "stdin",
     "output_type": "stream",
     "text": [
      "enter the price 5500\n"
     ]
    },
    {
     "name": "stdout",
     "output_type": "stream",
     "text": [
      "i will not purchase\n",
      "this is too much\n"
     ]
    }
   ],
   "source": [
    "price = int(input(\"enter the price\"))\n",
    "if price > 1000:\n",
    "    print(\"i will not purchase\")\n",
    "else :\n",
    "    print (\"i will purchase\")\n",
    "if price > 5000:\n",
    "        print(\"this is too much\")"
   ]
  },
  {
   "cell_type": "code",
   "execution_count": 10,
   "id": "08b17549-e181-4fff-9a3c-5f62297f01bc",
   "metadata": {},
   "outputs": [],
   "source": [
    "l = [1,2,3,4,5,6,7,8]"
   ]
  },
  {
   "cell_type": "code",
   "execution_count": 11,
   "id": "0965d200-05e7-4e2c-b4f0-93e4bd2138c6",
   "metadata": {},
   "outputs": [
    {
     "data": {
      "text/plain": [
       "[1, 2, 3, 4, 5, 6, 7, 8]"
      ]
     },
     "execution_count": 11,
     "metadata": {},
     "output_type": "execute_result"
    }
   ],
   "source": [
    "l"
   ]
  },
  {
   "cell_type": "code",
   "execution_count": 13,
   "id": "35034279-c7f8-49c4-b17c-6a43cc011742",
   "metadata": {},
   "outputs": [
    {
     "data": {
      "text/plain": [
       "2"
      ]
     },
     "execution_count": 13,
     "metadata": {},
     "output_type": "execute_result"
    }
   ],
   "source": [
    "l[0]+1"
   ]
  },
  {
   "cell_type": "code",
   "execution_count": 14,
   "id": "3d01494e-560b-4223-ad53-815c89884971",
   "metadata": {},
   "outputs": [],
   "source": [
    "l1 = []"
   ]
  },
  {
   "cell_type": "code",
   "execution_count": 15,
   "id": "4b73e76c-42e7-4f1b-afa3-b0e1c9f6ca0e",
   "metadata": {},
   "outputs": [],
   "source": [
    "l1.append(l[0]+1)"
   ]
  },
  {
   "cell_type": "code",
   "execution_count": 16,
   "id": "2d590ddf-a222-4ade-9a25-790c5b36d16a",
   "metadata": {},
   "outputs": [
    {
     "data": {
      "text/plain": [
       "[2]"
      ]
     },
     "execution_count": 16,
     "metadata": {},
     "output_type": "execute_result"
    }
   ],
   "source": [
    "l1"
   ]
  },
  {
   "cell_type": "code",
   "execution_count": 17,
   "id": "ab25539d-d8ec-46a3-b88c-a264516c5549",
   "metadata": {},
   "outputs": [
    {
     "data": {
      "text/plain": [
       "[1, 2, 3, 4, 5, 6, 7, 8]"
      ]
     },
     "execution_count": 17,
     "metadata": {},
     "output_type": "execute_result"
    }
   ],
   "source": [
    "l"
   ]
  },
  {
   "cell_type": "code",
   "execution_count": 22,
   "id": "710ea50e-b335-4e7e-b0e0-b218d6aa69c0",
   "metadata": {},
   "outputs": [
    {
     "name": "stdout",
     "output_type": "stream",
     "text": [
      "2\n",
      "3\n",
      "4\n",
      "5\n",
      "6\n",
      "7\n",
      "8\n",
      "9\n"
     ]
    },
    {
     "data": {
      "text/plain": [
       "[2, 3, 4, 5, 6, 7, 8, 9]"
      ]
     },
     "execution_count": 22,
     "metadata": {},
     "output_type": "execute_result"
    }
   ],
   "source": [
    "l1 = []\n",
    "for i in l :\n",
    "    print(i+1)\n",
    "    l1.append(i+1)\n",
    "l1"
   ]
  },
  {
   "cell_type": "code",
   "execution_count": 23,
   "id": "eb53e1b6-e1c4-405b-a9ff-9fdcab2f945e",
   "metadata": {},
   "outputs": [
    {
     "data": {
      "text/plain": [
       "[1, 2, 3, 4, 5, 6, 7, 8]"
      ]
     },
     "execution_count": 23,
     "metadata": {},
     "output_type": "execute_result"
    }
   ],
   "source": [
    "l"
   ]
  },
  {
   "cell_type": "code",
   "execution_count": 24,
   "id": "04defdc7-8bc2-4085-8dfb-9252cedba74f",
   "metadata": {},
   "outputs": [],
   "source": [
    "l = [\"sudh\", \"kumar\", \"pwskills\",\"course\"]"
   ]
  },
  {
   "cell_type": "code",
   "execution_count": 25,
   "id": "15bbe6e8-0d4a-4e58-b0e9-5e279fd6c68d",
   "metadata": {},
   "outputs": [
    {
     "data": {
      "text/plain": [
       "['sudh', 'kumar', 'pwskills', 'course']"
      ]
     },
     "execution_count": 25,
     "metadata": {},
     "output_type": "execute_result"
    }
   ],
   "source": [
    "l"
   ]
  },
  {
   "cell_type": "code",
   "execution_count": 27,
   "id": "18997c82-d2f0-4a6a-ba60-9cf48b38f489",
   "metadata": {},
   "outputs": [
    {
     "name": "stdout",
     "output_type": "stream",
     "text": [
      "sudh\n",
      "kumar\n",
      "pwskills\n",
      "course\n"
     ]
    }
   ],
   "source": [
    "l1 = []\n",
    "for i in l:\n",
    "    print(i)\n",
    "    l1.append(i.upper())"
   ]
  },
  {
   "cell_type": "code",
   "execution_count": 28,
   "id": "19a27435-69f6-4441-9d47-c8164cd04259",
   "metadata": {},
   "outputs": [
    {
     "data": {
      "text/plain": [
       "['SUDH', 'KUMAR', 'PWSKILLS', 'COURSE']"
      ]
     },
     "execution_count": 28,
     "metadata": {},
     "output_type": "execute_result"
    }
   ],
   "source": [
    "l1"
   ]
  },
  {
   "cell_type": "code",
   "execution_count": 5,
   "id": "d2cc42b7-c424-4b71-92c0-e4cbf018ab65",
   "metadata": {},
   "outputs": [],
   "source": [
    "l = [1,2,3,4,4,\"sudh\", \"kumar\",324,34.456,\"abc\"]"
   ]
  },
  {
   "cell_type": "code",
   "execution_count": 7,
   "id": "a0aec749-8393-497a-bd25-8de479f644c1",
   "metadata": {},
   "outputs": [],
   "source": [
    "l1_num = []\n",
    "l2_str = []\n",
    "for i in l :\n",
    "    if type(i) == int or type(i) == float :\n",
    "        l1_num.append(i)\n",
    "    else :\n",
    "        l2_str.append(i)"
   ]
  },
  {
   "cell_type": "code",
   "execution_count": 6,
   "id": "4bddf260-98f4-4661-a935-8fe8b4497e79",
   "metadata": {},
   "outputs": [
    {
     "data": {
      "text/plain": [
       "[1, 2, 3, 4, 4, 'sudh', 'kumar', 324, 34.456, 'abc']"
      ]
     },
     "execution_count": 6,
     "metadata": {},
     "output_type": "execute_result"
    }
   ],
   "source": [
    "l"
   ]
  },
  {
   "cell_type": "code",
   "execution_count": 8,
   "id": "df409470-b7e3-412f-8adf-4e8ab3787499",
   "metadata": {},
   "outputs": [
    {
     "data": {
      "text/plain": [
       "[1, 2, 3, 4, 4, 324, 34.456]"
      ]
     },
     "execution_count": 8,
     "metadata": {},
     "output_type": "execute_result"
    }
   ],
   "source": [
    "l1_num"
   ]
  },
  {
   "cell_type": "code",
   "execution_count": 9,
   "id": "05b54f44-0d57-4cd0-8f13-15f7142414d9",
   "metadata": {},
   "outputs": [
    {
     "data": {
      "text/plain": [
       "['sudh', 'kumar', 'abc']"
      ]
     },
     "execution_count": 9,
     "metadata": {},
     "output_type": "execute_result"
    }
   ],
   "source": [
    "l2_str"
   ]
  },
  {
   "cell_type": "code",
   "execution_count": null,
   "id": "1802f3af-00a6-4308-ad64-e889d99a933b",
   "metadata": {},
   "outputs": [],
   "source": []
  }
 ],
 "metadata": {
  "kernelspec": {
   "display_name": "Python 3 (ipykernel)",
   "language": "python",
   "name": "python3"
  },
  "language_info": {
   "codemirror_mode": {
    "name": "ipython",
    "version": 3
   },
   "file_extension": ".py",
   "mimetype": "text/x-python",
   "name": "python",
   "nbconvert_exporter": "python",
   "pygments_lexer": "ipython3",
   "version": "3.10.8"
  }
 },
 "nbformat": 4,
 "nbformat_minor": 5
}
